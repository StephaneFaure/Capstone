{
    "nbformat_minor": 1, 
    "cells": [
        {
            "source": "<H1>Neighborhoods in Toronto</H1>", 
            "cell_type": "markdown", 
            "metadata": {
                "collapsed": true
            }
        }, 
        {
            "source": "<p>Imports...</p>\n", 
            "cell_type": "markdown", 
            "metadata": {}
        }, 
        {
            "execution_count": 50, 
            "cell_type": "code", 
            "metadata": {}, 
            "outputs": [], 
            "source": "import pandas as pd\nimport numpy as np\n\nfrom bs4 import BeautifulSoup\nimport requests"
        }, 
        {
            "source": "<p>Loading data</p>", 
            "cell_type": "markdown", 
            "metadata": {}
        }, 
        {
            "execution_count": 16, 
            "cell_type": "code", 
            "metadata": {}, 
            "outputs": [], 
            "source": "doc_url = \"https://en.wikipedia.org/wiki/List_of_postal_codes_of_Canada:_M\"\nsource = requests.get(doc_url).text\nsoup = BeautifulSoup(source, 'lxml')"
        }, 
        {
            "source": "<p>Looking for the table and diving into its body</p>", 
            "cell_type": "markdown", 
            "metadata": {}
        }, 
        {
            "execution_count": 185, 
            "cell_type": "code", 
            "metadata": {}, 
            "outputs": [], 
            "source": "#Since there is only one table and its class is \"wikitable sortable\", let's extract it\ntable = soup.find(\"table\",class_=\"wikitable sortable\")\ntable_body = soup.find(\"tbody\")\n"
        }, 
        {
            "source": "<h2>Extraction of data in a dictionnary</h2>\n<p>The main assumption is to remove ant line where borough OR neighborough contained \"Not assigned\". It is inline with the first instruction but seems to contradict the instruction about Queen's Park where neighborough ony had \"Not assigned. <b>This makes one less row in the Dataframe at the end.</b></p>", 
            "cell_type": "markdown", 
            "metadata": {}
        }, 
        {
            "execution_count": 194, 
            "cell_type": "code", 
            "metadata": {}, 
            "outputs": [], 
            "source": "#Extract all raws\ntable_rows = table_body.find_all(\"tr\")\n# Preparing a dictionnary with postal code as key\ncp_dict=dict()\n\n# Loop over postocde list excluding the fist line (title)\nfor wiki_postcode in table_rows[1:]:\n    postcode_data = wiki_postcode.find_all(\"td\")\n    # Removong rows with not assigned entries\n    if postcode_data[1].text.rstrip() == \"Not assigned\" or postcode_data[2].text.rstrip()== \"Not assigned\" :    \n        continue\n  \n    postcode = postcode_data[0].text\n    # Process the case where there is a href or not in borough description\n    if postcode_data[1].find(\"a\"):\n        borough = postcode_data[1].find(\"a\").text\n    else:\n        borough = postcode_data[1].text\n\n    neighborough_data = postcode_data[2].text.rstrip()\n\n    # Update dictionnary according if there is already an entry for the postal code or if it needs to be created\n    if postcode in cp_dict:\n        cp_dict[postcode][1]=cp_dict[postcode][1]+\",\"+neighborough_data\n    else:\n        cp_dict[postcode]=[borough,neighborough_data]"
        }, 
        {
            "source": "<h2>Create DataFrame from dictionnary</h2>", 
            "cell_type": "markdown", 
            "metadata": {}
        }, 
        {
            "execution_count": 195, 
            "cell_type": "code", 
            "metadata": {}, 
            "outputs": [], 
            "source": "#Change dictionary into a list\ncplist=[]\nfor i in cp_dict.keys():\n  cplist.append((i,cp_dict[i][0],cp_dict[i][1]))\n# Load Dataframe from list\ncols = [\"Postcode\", \"Borough\", \"Neiborough\"]\ncp = pd.DataFrame.from_records(cplist, columns=cols)\n"
        }, 
        {
            "source": "<h2>Display the shape of the DataFrame and save it</h2>", 
            "cell_type": "markdown", 
            "metadata": {}
        }, 
        {
            "execution_count": 196, 
            "cell_type": "code", 
            "metadata": {}, 
            "outputs": [
                {
                    "output_type": "stream", 
                    "name": "stdout", 
                    "text": "(102, 3)\n"
                }, 
                {
                    "execution_count": 196, 
                    "metadata": {}, 
                    "data": {
                        "text/html": "<div>\n<style scoped>\n    .dataframe tbody tr th:only-of-type {\n        vertical-align: middle;\n    }\n\n    .dataframe tbody tr th {\n        vertical-align: top;\n    }\n\n    .dataframe thead th {\n        text-align: right;\n    }\n</style>\n<table border=\"1\" class=\"dataframe\">\n  <thead>\n    <tr style=\"text-align: right;\">\n      <th></th>\n      <th>Postcode</th>\n      <th>Borough</th>\n      <th>Neiborough</th>\n    </tr>\n  </thead>\n  <tbody>\n    <tr>\n      <th>0</th>\n      <td>M5V</td>\n      <td>Downtown Toronto</td>\n      <td>CN Tower,Bathurst Quay,Island airport,Harbourf...</td>\n    </tr>\n    <tr>\n      <th>1</th>\n      <td>M9M</td>\n      <td>North York</td>\n      <td>Emery,Humberlea</td>\n    </tr>\n    <tr>\n      <th>2</th>\n      <td>M1R</td>\n      <td>Scarborough</td>\n      <td>Maryvale,Wexford</td>\n    </tr>\n    <tr>\n      <th>3</th>\n      <td>M1T</td>\n      <td>Scarborough</td>\n      <td>Clarks Corners,Sullivan,Tam O'Shanter</td>\n    </tr>\n    <tr>\n      <th>4</th>\n      <td>M3C</td>\n      <td>North York</td>\n      <td>Flemingdon Park,Don Mills South</td>\n    </tr>\n  </tbody>\n</table>\n</div>", 
                        "text/plain": "  Postcode           Borough  \\\n0      M5V  Downtown Toronto   \n1      M9M        North York   \n2      M1R       Scarborough   \n3      M1T       Scarborough   \n4      M3C        North York   \n\n                                          Neiborough  \n0  CN Tower,Bathurst Quay,Island airport,Harbourf...  \n1                                    Emery,Humberlea  \n2                                   Maryvale,Wexford  \n3              Clarks Corners,Sullivan,Tam O'Shanter  \n4                    Flemingdon Park,Don Mills South  "
                    }, 
                    "output_type": "execute_result"
                }
            ], 
            "source": "print(cp.shape)\ncp.to_csv(\"Toronto.csv\")\ncp.head()"
        }, 
        {
            "execution_count": null, 
            "cell_type": "code", 
            "metadata": {}, 
            "outputs": [], 
            "source": ""
        }
    ], 
    "metadata": {
        "kernelspec": {
            "display_name": "Python 3.5", 
            "name": "python3", 
            "language": "python"
        }, 
        "language_info": {
            "mimetype": "text/x-python", 
            "nbconvert_exporter": "python", 
            "version": "3.5.5", 
            "name": "python", 
            "file_extension": ".py", 
            "pygments_lexer": "ipython3", 
            "codemirror_mode": {
                "version": 3, 
                "name": "ipython"
            }
        }
    }, 
    "nbformat": 4
}