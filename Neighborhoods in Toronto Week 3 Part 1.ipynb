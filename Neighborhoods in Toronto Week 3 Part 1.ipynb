{
    "nbformat_minor": 1, 
    "cells": [
        {
            "source": "<H1>Neighborhoods in Toronto</H1>", 
            "cell_type": "markdown", 
            "metadata": {
                "collapsed": true
            }
        }, 
        {
            "source": "<p>Imports...</p>\n", 
            "cell_type": "markdown", 
            "metadata": {}
        }, 
        {
            "execution_count": 1, 
            "cell_type": "code", 
            "metadata": {}, 
            "outputs": [], 
            "source": "import pandas as pd\nimport numpy as np\n\nfrom bs4 import BeautifulSoup\nimport requests"
        }, 
        {
            "source": "<p>Loading data</p>", 
            "cell_type": "markdown", 
            "metadata": {}
        }, 
        {
            "execution_count": 2, 
            "cell_type": "code", 
            "metadata": {}, 
            "outputs": [], 
            "source": "doc_url = \"https://en.wikipedia.org/wiki/List_of_postal_codes_of_Canada:_M\"\nsource = requests.get(doc_url).text\nsoup = BeautifulSoup(source, 'lxml')"
        }, 
        {
            "source": "<p>Looking for the table and diving into its body</p>", 
            "cell_type": "markdown", 
            "metadata": {}
        }, 
        {
            "execution_count": 3, 
            "cell_type": "code", 
            "metadata": {}, 
            "outputs": [], 
            "source": "#Since there is only one table and its class is \"wikitable sortable\", let's extract it\ntable = soup.find(\"table\",class_=\"wikitable sortable\")\ntable_body = soup.find(\"tbody\")\n"
        }, 
        {
            "source": "<h2>Extraction of data in a dictionnary</h2>", 
            "cell_type": "markdown", 
            "metadata": {}
        }, 
        {
            "execution_count": 4, 
            "cell_type": "code", 
            "metadata": {}, 
            "outputs": [], 
            "source": "#Extract all raws\ntable_rows = table_body.find_all(\"tr\")\n# Preparing a dictionnary with postal code as key\ncp_dict=dict()\n\n# Loop over postocde list excluding the fist line (title)\nfor wiki_postcode in table_rows[1:]:\n    postcode_data = wiki_postcode.find_all(\"td\")\n    # Removong rows with not assigned entries\n    if postcode_data[1].text.rstrip() == \"Not assigned\":    \n        continue\n\n    postcode = postcode_data[0].text\n    # Process the case where there is a href or not in borough description\n    if postcode_data[1].find(\"a\"):\n        borough = postcode_data[1].find(\"a\").text\n    else:\n        borough = postcode_data[1].text\n    if postcode_data[2].text.rstrip()== \"Not assigned\":\n        neighborough_data = borough\n    else:\n        neighborough_data = postcode_data[2].text.rstrip()\n\n    # Update dictionnary according if there is already an entry for the postal code or if it needs to be created\n    if postcode in cp_dict:\n        cp_dict[postcode][1]=cp_dict[postcode][1]+\",\"+neighborough_data\n    else:\n        cp_dict[postcode]=[borough,neighborough_data]"
        }, 
        {
            "source": "<h2>Create DataFrame from dictionnary</h2>", 
            "cell_type": "markdown", 
            "metadata": {}
        }, 
        {
            "execution_count": 5, 
            "cell_type": "code", 
            "metadata": {}, 
            "outputs": [], 
            "source": "#Change dictionary into a list\ncplist=[]\nfor i in cp_dict.keys():\n  cplist.append((i,cp_dict[i][0],cp_dict[i][1]))\n# Load Dataframe from list\ncols = [\"Postcode\", \"Borough\", \"Neiborough\"]\ncp = pd.DataFrame.from_records(cplist, columns=cols)\n"
        }, 
        {
            "source": "<h2>Display the shape of the DataFrame and save it</h2>", 
            "cell_type": "markdown", 
            "metadata": {}
        }, 
        {
            "execution_count": 7, 
            "cell_type": "code", 
            "metadata": {}, 
            "outputs": [
                {
                    "output_type": "stream", 
                    "name": "stdout", 
                    "text": "(103, 3)\n"
                }, 
                {
                    "execution_count": 7, 
                    "metadata": {}, 
                    "data": {
                        "text/html": "<div>\n<style scoped>\n    .dataframe tbody tr th:only-of-type {\n        vertical-align: middle;\n    }\n\n    .dataframe tbody tr th {\n        vertical-align: top;\n    }\n\n    .dataframe thead th {\n        text-align: right;\n    }\n</style>\n<table border=\"1\" class=\"dataframe\">\n  <thead>\n    <tr style=\"text-align: right;\">\n      <th></th>\n      <th>Postcode</th>\n      <th>Borough</th>\n      <th>Neiborough</th>\n    </tr>\n  </thead>\n  <tbody>\n    <tr>\n      <th>0</th>\n      <td>M3A</td>\n      <td>North York</td>\n      <td>Parkwoods</td>\n    </tr>\n    <tr>\n      <th>1</th>\n      <td>M5H</td>\n      <td>Downtown Toronto</td>\n      <td>Adelaide,King,Richmond</td>\n    </tr>\n    <tr>\n      <th>2</th>\n      <td>M5L</td>\n      <td>Downtown Toronto</td>\n      <td>Commerce Court,Victoria Hotel</td>\n    </tr>\n    <tr>\n      <th>3</th>\n      <td>M3C</td>\n      <td>North York</td>\n      <td>Flemingdon Park,Don Mills South</td>\n    </tr>\n    <tr>\n      <th>4</th>\n      <td>M1R</td>\n      <td>Scarborough</td>\n      <td>Maryvale,Wexford</td>\n    </tr>\n    <tr>\n      <th>5</th>\n      <td>M6C</td>\n      <td>York</td>\n      <td>Humewood-Cedarvale</td>\n    </tr>\n    <tr>\n      <th>6</th>\n      <td>M2N</td>\n      <td>North York</td>\n      <td>Willowdale South</td>\n    </tr>\n    <tr>\n      <th>7</th>\n      <td>M6L</td>\n      <td>North York</td>\n      <td>Maple Leaf Park,North Park,Upwood Park</td>\n    </tr>\n    <tr>\n      <th>8</th>\n      <td>M9V</td>\n      <td>Etobicoke</td>\n      <td>Albion Gardens,Beaumond Heights,Humbergate,Jam...</td>\n    </tr>\n    <tr>\n      <th>9</th>\n      <td>M4L</td>\n      <td>East Toronto</td>\n      <td>The Beaches West,India Bazaar</td>\n    </tr>\n    <tr>\n      <th>10</th>\n      <td>M4S</td>\n      <td>Central Toronto</td>\n      <td>Davisville</td>\n    </tr>\n    <tr>\n      <th>11</th>\n      <td>M9M</td>\n      <td>North York</td>\n      <td>Emery,Humberlea</td>\n    </tr>\n    <tr>\n      <th>12</th>\n      <td>M6K</td>\n      <td>West Toronto</td>\n      <td>Brockton,Exhibition Place,Parkdale Village</td>\n    </tr>\n    <tr>\n      <th>13</th>\n      <td>M9C</td>\n      <td>Etobicoke</td>\n      <td>Bloordale Gardens,Eringate,Markland Wood,Old B...</td>\n    </tr>\n    <tr>\n      <th>14</th>\n      <td>M2J</td>\n      <td>North York</td>\n      <td>Fairview,Henry Farm,Oriole</td>\n    </tr>\n    <tr>\n      <th>15</th>\n      <td>M8Z</td>\n      <td>Etobicoke</td>\n      <td>Kingsway Park South West,Mimico NW,The Queensw...</td>\n    </tr>\n    <tr>\n      <th>16</th>\n      <td>M8V</td>\n      <td>Etobicoke</td>\n      <td>Humber Bay Shores,Mimico South,New Toronto</td>\n    </tr>\n    <tr>\n      <th>17</th>\n      <td>M4V</td>\n      <td>Central Toronto</td>\n      <td>Deer Park,Forest Hill SE,Rathnelly,South Hill,...</td>\n    </tr>\n    <tr>\n      <th>18</th>\n      <td>M5A</td>\n      <td>Downtown Toronto</td>\n      <td>Harbourfront,Regent Park</td>\n    </tr>\n    <tr>\n      <th>19</th>\n      <td>M3K</td>\n      <td>North York</td>\n      <td>CFB Toronto,Downsview East</td>\n    </tr>\n    <tr>\n      <th>20</th>\n      <td>M1N</td>\n      <td>Scarborough</td>\n      <td>Birch Cliff,Cliffside West</td>\n    </tr>\n    <tr>\n      <th>21</th>\n      <td>M1W</td>\n      <td>Scarborough</td>\n      <td>L'Amoreaux West,Steeles West</td>\n    </tr>\n    <tr>\n      <th>22</th>\n      <td>M5W</td>\n      <td>Downtown Toronto</td>\n      <td>Stn A PO Boxes 25 The Esplanade</td>\n    </tr>\n    <tr>\n      <th>23</th>\n      <td>M1B</td>\n      <td>Scarborough</td>\n      <td>Rouge,Malvern</td>\n    </tr>\n    <tr>\n      <th>24</th>\n      <td>M1J</td>\n      <td>Scarborough</td>\n      <td>Scarborough Village</td>\n    </tr>\n    <tr>\n      <th>25</th>\n      <td>M3N</td>\n      <td>North York</td>\n      <td>Downsview Northwest</td>\n    </tr>\n    <tr>\n      <th>26</th>\n      <td>M1G</td>\n      <td>Scarborough</td>\n      <td>Woburn</td>\n    </tr>\n    <tr>\n      <th>27</th>\n      <td>M1H</td>\n      <td>Scarborough</td>\n      <td>Cedarbrae</td>\n    </tr>\n    <tr>\n      <th>28</th>\n      <td>M3M</td>\n      <td>North York</td>\n      <td>Downsview Central</td>\n    </tr>\n    <tr>\n      <th>29</th>\n      <td>M1T</td>\n      <td>Scarborough</td>\n      <td>Clarks Corners,Sullivan,Tam O'Shanter</td>\n    </tr>\n    <tr>\n      <th>...</th>\n      <td>...</td>\n      <td>...</td>\n      <td>...</td>\n    </tr>\n    <tr>\n      <th>73</th>\n      <td>M4A</td>\n      <td>North York</td>\n      <td>Victoria Village</td>\n    </tr>\n    <tr>\n      <th>74</th>\n      <td>M8W</td>\n      <td>Etobicoke</td>\n      <td>Alderwood,Long Branch</td>\n    </tr>\n    <tr>\n      <th>75</th>\n      <td>M5G</td>\n      <td>Downtown Toronto</td>\n      <td>Central Bay Street</td>\n    </tr>\n    <tr>\n      <th>76</th>\n      <td>M2P</td>\n      <td>North York</td>\n      <td>York Mills West</td>\n    </tr>\n    <tr>\n      <th>77</th>\n      <td>M5M</td>\n      <td>North York</td>\n      <td>Bedford Park,Lawrence Manor East</td>\n    </tr>\n    <tr>\n      <th>78</th>\n      <td>M5P</td>\n      <td>Central Toronto</td>\n      <td>Forest Hill North,Forest Hill West</td>\n    </tr>\n    <tr>\n      <th>79</th>\n      <td>M4X</td>\n      <td>Downtown Toronto</td>\n      <td>Cabbagetown,St. James Town</td>\n    </tr>\n    <tr>\n      <th>80</th>\n      <td>M6H</td>\n      <td>West Toronto</td>\n      <td>Dovercourt Village,Dufferin</td>\n    </tr>\n    <tr>\n      <th>81</th>\n      <td>M1X</td>\n      <td>Scarborough</td>\n      <td>Upper Rouge</td>\n    </tr>\n    <tr>\n      <th>82</th>\n      <td>M5K</td>\n      <td>Downtown Toronto</td>\n      <td>Design Exchange,Toronto Dominion Centre</td>\n    </tr>\n    <tr>\n      <th>83</th>\n      <td>M9P</td>\n      <td>Etobicoke</td>\n      <td>Westmount</td>\n    </tr>\n    <tr>\n      <th>84</th>\n      <td>M6N</td>\n      <td>York</td>\n      <td>]The Junction North]],Runnymede]]</td>\n    </tr>\n    <tr>\n      <th>85</th>\n      <td>M1E</td>\n      <td>Scarborough</td>\n      <td>Guildwood]],Morningside,West Hill</td>\n    </tr>\n    <tr>\n      <th>86</th>\n      <td>M8Y</td>\n      <td>Etobicoke</td>\n      <td>Humber Bay,King's Mill Park,Kingsway Park Sout...</td>\n    </tr>\n    <tr>\n      <th>87</th>\n      <td>M3L</td>\n      <td>North York</td>\n      <td>Downsview West</td>\n    </tr>\n    <tr>\n      <th>88</th>\n      <td>M4G</td>\n      <td>East York</td>\n      <td>Leaside</td>\n    </tr>\n    <tr>\n      <th>89</th>\n      <td>M4B</td>\n      <td>East York</td>\n      <td>Woodbine Gardens,Parkview Hill</td>\n    </tr>\n    <tr>\n      <th>90</th>\n      <td>M4C</td>\n      <td>East York</td>\n      <td>Woodbine Heights</td>\n    </tr>\n    <tr>\n      <th>91</th>\n      <td>M7R</td>\n      <td>Mississauga</td>\n      <td>Canada Post Gateway Processing Centre</td>\n    </tr>\n    <tr>\n      <th>92</th>\n      <td>M6M</td>\n      <td>York</td>\n      <td>Del Ray,Keelsdale,Mount Dennis,Silverthorn</td>\n    </tr>\n    <tr>\n      <th>93</th>\n      <td>M5B</td>\n      <td>Downtown Toronto</td>\n      <td>Ryerson,Garden District</td>\n    </tr>\n    <tr>\n      <th>94</th>\n      <td>M5V</td>\n      <td>Downtown Toronto</td>\n      <td>CN Tower,Bathurst Quay,Island airport,Harbourf...</td>\n    </tr>\n    <tr>\n      <th>95</th>\n      <td>M3H</td>\n      <td>North York</td>\n      <td>Bathurst Manor,Downsview North,Wilson Heights</td>\n    </tr>\n    <tr>\n      <th>96</th>\n      <td>M2R</td>\n      <td>North York</td>\n      <td>Willowdale West</td>\n    </tr>\n    <tr>\n      <th>97</th>\n      <td>M4E</td>\n      <td>East Toronto</td>\n      <td>The Beaches</td>\n    </tr>\n    <tr>\n      <th>98</th>\n      <td>M4J</td>\n      <td>East York</td>\n      <td>East Toronto</td>\n    </tr>\n    <tr>\n      <th>99</th>\n      <td>M8X</td>\n      <td>Etobicoke</td>\n      <td>The Kingsway,Montgomery Road,Old Mill North</td>\n    </tr>\n    <tr>\n      <th>100</th>\n      <td>M9A</td>\n      <td>Etobicoke</td>\n      <td>Islington Avenue</td>\n    </tr>\n    <tr>\n      <th>101</th>\n      <td>M7A</td>\n      <td>Queen's Park</td>\n      <td>Queen's Park</td>\n    </tr>\n    <tr>\n      <th>102</th>\n      <td>M6J</td>\n      <td>West Toronto</td>\n      <td>Little Portugal,Trinity</td>\n    </tr>\n  </tbody>\n</table>\n<p>103 rows \u00d7 3 columns</p>\n</div>", 
                        "text/plain": "    Postcode           Borough  \\\n0        M3A        North York   \n1        M5H  Downtown Toronto   \n2        M5L  Downtown Toronto   \n3        M3C        North York   \n4        M1R       Scarborough   \n5        M6C              York   \n6        M2N        North York   \n7        M6L        North York   \n8        M9V         Etobicoke   \n9        M4L      East Toronto   \n10       M4S   Central Toronto   \n11       M9M        North York   \n12       M6K      West Toronto   \n13       M9C         Etobicoke   \n14       M2J        North York   \n15       M8Z         Etobicoke   \n16       M8V         Etobicoke   \n17       M4V   Central Toronto   \n18       M5A  Downtown Toronto   \n19       M3K        North York   \n20       M1N       Scarborough   \n21       M1W       Scarborough   \n22       M5W  Downtown Toronto   \n23       M1B       Scarborough   \n24       M1J       Scarborough   \n25       M3N        North York   \n26       M1G       Scarborough   \n27       M1H       Scarborough   \n28       M3M        North York   \n29       M1T       Scarborough   \n..       ...               ...   \n73       M4A        North York   \n74       M8W         Etobicoke   \n75       M5G  Downtown Toronto   \n76       M2P        North York   \n77       M5M        North York   \n78       M5P   Central Toronto   \n79       M4X  Downtown Toronto   \n80       M6H      West Toronto   \n81       M1X       Scarborough   \n82       M5K  Downtown Toronto   \n83       M9P         Etobicoke   \n84       M6N              York   \n85       M1E       Scarborough   \n86       M8Y         Etobicoke   \n87       M3L        North York   \n88       M4G         East York   \n89       M4B         East York   \n90       M4C         East York   \n91       M7R       Mississauga   \n92       M6M              York   \n93       M5B  Downtown Toronto   \n94       M5V  Downtown Toronto   \n95       M3H        North York   \n96       M2R        North York   \n97       M4E      East Toronto   \n98       M4J         East York   \n99       M8X         Etobicoke   \n100      M9A         Etobicoke   \n101      M7A      Queen's Park   \n102      M6J      West Toronto   \n\n                                            Neiborough  \n0                                            Parkwoods  \n1                               Adelaide,King,Richmond  \n2                        Commerce Court,Victoria Hotel  \n3                      Flemingdon Park,Don Mills South  \n4                                     Maryvale,Wexford  \n5                                   Humewood-Cedarvale  \n6                                     Willowdale South  \n7               Maple Leaf Park,North Park,Upwood Park  \n8    Albion Gardens,Beaumond Heights,Humbergate,Jam...  \n9                        The Beaches West,India Bazaar  \n10                                          Davisville  \n11                                     Emery,Humberlea  \n12          Brockton,Exhibition Place,Parkdale Village  \n13   Bloordale Gardens,Eringate,Markland Wood,Old B...  \n14                          Fairview,Henry Farm,Oriole  \n15   Kingsway Park South West,Mimico NW,The Queensw...  \n16          Humber Bay Shores,Mimico South,New Toronto  \n17   Deer Park,Forest Hill SE,Rathnelly,South Hill,...  \n18                            Harbourfront,Regent Park  \n19                          CFB Toronto,Downsview East  \n20                          Birch Cliff,Cliffside West  \n21                        L'Amoreaux West,Steeles West  \n22                     Stn A PO Boxes 25 The Esplanade  \n23                                       Rouge,Malvern  \n24                                 Scarborough Village  \n25                                 Downsview Northwest  \n26                                              Woburn  \n27                                           Cedarbrae  \n28                                   Downsview Central  \n29               Clarks Corners,Sullivan,Tam O'Shanter  \n..                                                 ...  \n73                                    Victoria Village  \n74                               Alderwood,Long Branch  \n75                                  Central Bay Street  \n76                                     York Mills West  \n77                    Bedford Park,Lawrence Manor East  \n78                  Forest Hill North,Forest Hill West  \n79                          Cabbagetown,St. James Town  \n80                         Dovercourt Village,Dufferin  \n81                                         Upper Rouge  \n82             Design Exchange,Toronto Dominion Centre  \n83                                           Westmount  \n84                   ]The Junction North]],Runnymede]]  \n85                   Guildwood]],Morningside,West Hill  \n86   Humber Bay,King's Mill Park,Kingsway Park Sout...  \n87                                      Downsview West  \n88                                             Leaside  \n89                      Woodbine Gardens,Parkview Hill  \n90                                    Woodbine Heights  \n91               Canada Post Gateway Processing Centre  \n92          Del Ray,Keelsdale,Mount Dennis,Silverthorn  \n93                             Ryerson,Garden District  \n94   CN Tower,Bathurst Quay,Island airport,Harbourf...  \n95       Bathurst Manor,Downsview North,Wilson Heights  \n96                                     Willowdale West  \n97                                         The Beaches  \n98                                        East Toronto  \n99         The Kingsway,Montgomery Road,Old Mill North  \n100                                   Islington Avenue  \n101                                       Queen's Park  \n102                            Little Portugal,Trinity  \n\n[103 rows x 3 columns]"
                    }, 
                    "output_type": "execute_result"
                }
            ], 
            "source": "print(cp.shape)\ncp.to_csv(\"Toronto.csv\")\ncp.head(103)"
        }, 
        {
            "execution_count": null, 
            "cell_type": "code", 
            "metadata": {}, 
            "outputs": [], 
            "source": ""
        }
    ], 
    "metadata": {
        "kernelspec": {
            "display_name": "Python 3.5", 
            "name": "python3", 
            "language": "python"
        }, 
        "language_info": {
            "mimetype": "text/x-python", 
            "nbconvert_exporter": "python", 
            "version": "3.5.5", 
            "name": "python", 
            "file_extension": ".py", 
            "pygments_lexer": "ipython3", 
            "codemirror_mode": {
                "version": 3, 
                "name": "ipython"
            }
        }
    }, 
    "nbformat": 4
}